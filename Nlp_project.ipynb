{
 "cells": [
  {
   "cell_type": "code",
   "execution_count": 1,
   "metadata": {},
   "outputs": [],
   "source": [
    "import pandas as pd\n",
    "import nltk\n",
    "import nltk.corpus as corpus"
   ]
  },
  {
   "cell_type": "code",
   "execution_count": 2,
   "metadata": {},
   "outputs": [],
   "source": [
    "grame_2 = pd.read_fwf(\"data/w2_.txt\",header=None)\n",
    "grame_3 = pd.read_fwf(\"data/w3_.txt\",header=None)\n",
    "grame_4 = pd.read_fwf(\"data/w4_.txt\",header=None)\n",
    "grame_5 = pd.read_fwf(\"data/w5_.txt\",header=None)"
   ]
  },
  {
   "cell_type": "code",
   "execution_count": 3,
   "metadata": {},
   "outputs": [],
   "source": [
    "def freq(words):\n",
    "    words = words.split(\"\\t\")\n",
    "    return words[0].lower()\n",
    "def word1(words):\n",
    "    words = words.split(\"\\t\")\n",
    "    return words[1]\n",
    "def word2(words):\n",
    "    words = words.split(\"\\t\")\n",
    "    if(len(words)>=3):\n",
    "        return words[2].lower()\n",
    "    else:\n",
    "        return \" \" \n",
    "def word3(words):\n",
    "    words = words.split(\"\\t\")\n",
    "    if(len(words)>=4):\n",
    "        return words[3].lower()\n",
    "    else:\n",
    "        return \" \" \n",
    "\n",
    "def word4(words):\n",
    "    words = words.split(\"\\t\")\n",
    "    if(len(words)>=5):\n",
    "        return words[4].lower()\n",
    "    else:\n",
    "        return \" \" \n",
    "\n",
    "    \n",
    "def word5(words):\n",
    "    words = words.split(\"\\t\")\n",
    "    if(len(words)>=6):\n",
    "        return words[5].lower()\n",
    "    else:\n",
    "        return \" \" \n"
   ]
  },
  {
   "cell_type": "code",
   "execution_count": 142,
   "metadata": {},
   "outputs": [],
   "source": [
    "all_words  = corpus.words.words()\n",
    "def to_lower(word):\n",
    "    return word.lower()\n",
    "all_words = pd.DataFrame(all_words)[0].apply(to_lower)\n",
    "all_words = pd.unique(all_words)\n",
    "# grame_2[0] = grame_2[0].apply(to_lower)\n",
    "# grame_3[0] = grame_3[0].apply(to_lower)\n",
    "# grame_4[0] = grame_4[0].apply(to_lower)\n",
    "# grame_5[0] = grame_5[0].apply(to_lower)\n",
    "\n",
    "\n",
    "grame_2[\"freq\"]  = grame_2[0].apply(freq)\n",
    "grame_2[\"word1\"] = grame_2[0].apply(word1)\n",
    "grame_2[\"word2\"] = grame_2[0].apply(word2)\n",
    "\n",
    "grame_3[\"freq\"]  = grame_3[0].apply(freq)\n",
    "grame_3[\"word1\"] = grame_3[0].apply(word1)\n",
    "grame_3[\"word2\"] = grame_3[0].apply(word2)\n",
    "grame_3[\"word3\"] = grame_3[0].apply(word3)\n",
    "\n",
    "grame_4[\"freq\"]  = grame_4[0].apply(freq)\n",
    "grame_4[\"word1\"] = grame_4[0].apply(word1)\n",
    "grame_4[\"word2\"] = grame_4[0].apply(word2)\n",
    "grame_4[\"word3\"] = grame_4[0].apply(word3)\n",
    "grame_4[\"word4\"] = grame_4[0].apply(word4)\n",
    "\n",
    "grame_5[\"freq\"]  = grame_5[0].apply(freq)\n",
    "grame_5[\"word1\"] = grame_5[0].apply(word1)\n",
    "grame_5[\"word2\"] = grame_5[0].apply(word2)\n",
    "grame_5[\"word3\"] = grame_5[0].apply(word3)\n",
    "grame_5[\"word4\"] = grame_5[0].apply(word4)\n",
    "grame_5[\"word5\"] = grame_5[0].apply(word5)\n",
    "\n"
   ]
  },
  {
   "cell_type": "code",
   "execution_count": 143,
   "metadata": {},
   "outputs": [],
   "source": [
    "def candidate(paragraph):\n",
    "    words = paragraph.split(\" \")\n",
    "    flag_cond = 1\n",
    "    if(len(words) == 5):\n",
    "        word_candidate = (grame_5[(grame_5['word1'] == words[0]) & (grame_5['word2'] == words[1]) & (grame_5['word3'] == words[2])&(grame_5['word4'] == words[3])])['word5']\n",
    "        if(len(word_candidate) > 0):\n",
    "            flag_cond = 0\n",
    "        else:\n",
    "            words[1:]\n",
    "    if(len(words) == 4 and flag_cond == 1):\n",
    "        word_candidate = (grame_4[(grame_4['word1'] == words[0])&(grame_4['word2'] == words[1])&(grame_4['word3'] == words[2])])['word4']\n",
    "        if(len(word_candidate) > 0):\n",
    "            flag_cond = 0\n",
    "        else:\n",
    "            words[1:]            \n",
    "    if(len(words) == 3 and flag_cond == 1):\n",
    "        word_candidate = (grame_3[(grame_3['word1'] == words[0])&(grame_3['word2'] == words[1])])['word3']\n",
    "        if(len(word_candidate) > 0):\n",
    "            flag_cond = 0\n",
    "        else:\n",
    "            words[1:]\n",
    "    if(len(words) == 2 and flag_cond == 1):\n",
    "        word_candidate = (grame_2[(grame_2['word1'] == words[0])])['word2']\n",
    "        if(len(word_candidate) > 0):\n",
    "            flag_cond = 0\n",
    "        else:\n",
    "            words[1:]\n",
    "    if(flag_cond == 1):\n",
    "        word_candidate = all_words\n",
    "        \n",
    "    word_candidate = pd.DataFrame(word_candidate)\n",
    "    word_candidate.columns = [0]\n",
    "    if(len(word_candidate[word_candidate[0] == words[-1]]) > 0):\n",
    "        return (words[-1],-1)\n",
    "    else:\n",
    "        return (words[-1],get_num_candidate(words[-1],word_candidate,5))\n",
    "    "
   ]
  },
  {
   "cell_type": "code",
   "execution_count": 144,
   "metadata": {},
   "outputs": [],
   "source": [
    "def get_num_candidate(word,candidate,num):\n",
    "    def get_distance(word_candidate):\n",
    "        return nltk.edit_distance(word,word_candidate)\n",
    "#     print(word)\n",
    "    candidate['freq'] = candidate[0].apply(get_distance)\n",
    "    return(candidate.sort_values(by=\"freq\").head(num))\n",
    "    "
   ]
  },
  {
   "cell_type": "code",
   "execution_count": 145,
   "metadata": {},
   "outputs": [],
   "source": [
    "a = candidate(\"salah go to schoo\")"
   ]
  },
  {
   "cell_type": "code",
   "execution_count": 146,
   "metadata": {},
   "outputs": [
    {
     "name": "stdout",
     "output_type": "stream",
     "text": [
      "schoo\n",
      "             0  freq\n",
      "173797    scho     1\n",
      "179320    shoo     1\n",
      "173834  school     1\n",
      "173900  schoon     1\n",
      "174881   scroo     1\n"
     ]
    }
   ],
   "source": [
    "if(type(a[-1]) == pd.core.frame.DataFrame):\n",
    "    print(a[0])\n",
    "    print(a[1])"
   ]
  },
  {
   "cell_type": "code",
   "execution_count": null,
   "metadata": {},
   "outputs": [],
   "source": []
  },
  {
   "cell_type": "code",
   "execution_count": null,
   "metadata": {},
   "outputs": [],
   "source": []
  },
  {
   "cell_type": "code",
   "execution_count": null,
   "metadata": {},
   "outputs": [],
   "source": []
  },
  {
   "cell_type": "code",
   "execution_count": null,
   "metadata": {},
   "outputs": [],
   "source": []
  },
  {
   "cell_type": "code",
   "execution_count": null,
   "metadata": {},
   "outputs": [],
   "source": []
  },
  {
   "cell_type": "code",
   "execution_count": 147,
   "metadata": {},
   "outputs": [
    {
     "data": {
      "text/plain": [
       "array(['a', 'aa', 'aal', ..., 'harbour', 'humour', 'near'], dtype=object)"
      ]
     },
     "execution_count": 147,
     "metadata": {},
     "output_type": "execute_result"
    }
   ],
   "source": [
    "all_words"
   ]
  },
  {
   "cell_type": "code",
   "execution_count": null,
   "metadata": {},
   "outputs": [],
   "source": []
  }
 ],
 "metadata": {
  "kernelspec": {
   "display_name": "Python 3",
   "language": "python",
   "name": "python3"
  },
  "language_info": {
   "codemirror_mode": {
    "name": "ipython",
    "version": 3
   },
   "file_extension": ".py",
   "mimetype": "text/x-python",
   "name": "python",
   "nbconvert_exporter": "python",
   "pygments_lexer": "ipython3",
   "version": "3.6.4"
  }
 },
 "nbformat": 4,
 "nbformat_minor": 2
}
